{
 "cells": [
  {
   "cell_type": "code",
   "execution_count": 1,
   "metadata": {},
   "outputs": [],
   "source": [
    "import csv\n",
    "import requests\n",
    "import time\n",
    "import re"
   ]
  },
  {
   "cell_type": "code",
   "execution_count": 2,
   "metadata": {},
   "outputs": [],
   "source": [
    "TOKEN = '5f1d22d6cdde3ca79aafadee6bcf21cc43fa6ffdddef47749a6cd86ac6d42216'\n",
    "cnpjs = []\n",
    "csv_filename = 'dados_cnpjs.csv'"
   ]
  },
  {
   "cell_type": "code",
   "execution_count": 3,
   "metadata": {},
   "outputs": [],
   "source": [
    "def obter_dados_cnpj(cnpj, TOKEN):\n",
    "    url = f'https://www.receitaws.com.br/v1/cnpj/{cnpj}'\n",
    "    querystring = {\"token\": TOKEN}\n",
    "    response = requests.request(\"GET\", url, params=querystring)\n",
    "    \n",
    "    if response.status_code == 200:\n",
    "        print(f'Requisição bem-sucedida para o CNPJ {cnpj}!')\n",
    "        return response.json()\n",
    "    else:\n",
    "        print(f'A requisição para o CNPJ {cnpj} falhou. Código de status:', response.status_code)\n",
    "        return None"
   ]
  },
  {
   "cell_type": "code",
   "execution_count": 4,
   "metadata": {},
   "outputs": [],
   "source": [
    "with open('dados_consulta.csv', mode='r') as file:\n",
    "    reader = csv.DictReader(file)\n",
    "    for row in reader:\n",
    "        cnpj_numeros = re.sub(r'\\D', '', row['cnpj'])\n",
    "        cnpjs.append(cnpj_numeros)"
   ]
  },
  {
   "cell_type": "code",
   "execution_count": 5,
   "metadata": {},
   "outputs": [
    {
     "name": "stdout",
     "output_type": "stream",
     "text": [
      "Requisição bem-sucedida para o CNPJ 42013551000130!\n",
      "Requisição bem-sucedida para o CNPJ 39922063000130!\n",
      "Requisição bem-sucedida para o CNPJ 40916606000196!\n",
      "Requisição bem-sucedida para o CNPJ 41461512000132!\n",
      "Requisição bem-sucedida para o CNPJ 35865947000140!\n",
      "Requisição bem-sucedida para o CNPJ 36931922000160!\n",
      "Requisição bem-sucedida para o CNPJ 36149348000192!\n",
      "Requisição bem-sucedida para o CNPJ 41665075000179!\n",
      "Requisição bem-sucedida para o CNPJ 41182405000175!\n",
      "Requisição bem-sucedida para o CNPJ 37204421000144!\n",
      "Requisição bem-sucedida para o CNPJ 33633857000106!\n",
      "Requisição bem-sucedida para o CNPJ 37654828000173!\n",
      "Requisição bem-sucedida para o CNPJ 24302781000137!\n",
      "Requisição bem-sucedida para o CNPJ 37145986000106!\n",
      "Requisição bem-sucedida para o CNPJ 30909004000158!\n",
      "Requisição bem-sucedida para o CNPJ 41884167000140!\n",
      "Requisição bem-sucedida para o CNPJ 40164422000117!\n",
      "Requisição bem-sucedida para o CNPJ 40281052000106!\n",
      "Requisição bem-sucedida para o CNPJ 39854502000115!\n",
      "Requisição bem-sucedida para o CNPJ 36249913000193!\n",
      "Dados salvos em dados_cnpjs.csv\n"
     ]
    }
   ],
   "source": [
    "with open(csv_filename, mode='w', newline='') as file:\n",
    "    writer = csv.writer(file, delimiter=';')\n",
    "    writer.writerow(['CNPJ', 'data_de_abertura', 'nome', 'atividade_principal', 'atividade_secundaria', 'ultima_atualização', 'capital_social'])\n",
    "    \n",
    "    for cnpj in cnpjs:\n",
    "        data = obter_dados_cnpj(cnpj, TOKEN)\n",
    "        if data:\n",
    "            atividades_secundarias = data.get('atividades_secundarias', [])\n",
    "            primeira_atividade_secundaria = atividades_secundarias[0]['text'] if atividades_secundarias else ''\n",
    "            writer.writerow([\n",
    "                cnpj,\n",
    "                data.get('abertura', ''),\n",
    "                data.get('nome', ''),\n",
    "                data.get('atividade_principal', [{'text': ''}])[0].get('text', ''),\n",
    "                primeira_atividade_secundaria,\n",
    "                data.get('ultima_atualizacao', ''),\n",
    "                data.get('capital_social', '')\n",
    "            ])\n",
    "        time.sleep(20)\n",
    "\n",
    "print('Dados salvos em', csv_filename)"
   ]
  }
 ],
 "metadata": {
  "kernelspec": {
   "display_name": "Python 3",
   "language": "python",
   "name": "python3"
  },
  "language_info": {
   "codemirror_mode": {
    "name": "ipython",
    "version": 3
   },
   "file_extension": ".py",
   "mimetype": "text/x-python",
   "name": "python",
   "nbconvert_exporter": "python",
   "pygments_lexer": "ipython3",
   "version": "3.12.1"
  }
 },
 "nbformat": 4,
 "nbformat_minor": 2
}
